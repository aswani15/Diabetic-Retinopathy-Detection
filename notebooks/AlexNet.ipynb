{
  "nbformat": 4,
  "nbformat_minor": 0,
  "metadata": {
    "colab": {
      "name": "MyAlexNet.ipynb",
      "version": "0.3.2",
      "provenance": [],
      "collapsed_sections": []
    },
    "kernelspec": {
      "name": "python3",
      "display_name": "Python 3"
    },
    "accelerator": "GPU"
  },
  "cells": [
    {
      "cell_type": "code",
      "metadata": {
        "id": "lDBPE4nJkzol",
        "colab_type": "code",
        "outputId": "dd3becbc-0ca5-4f95-8e6b-84d16f3ecb6b",
        "colab": {
          "base_uri": "https://localhost:8080/",
          "height": 120
        }
      },
      "source": [
        "from google.colab import drive\n",
        "drive.mount('/content/gdrive')"
      ],
      "execution_count": 0,
      "outputs": [
        {
          "output_type": "stream",
          "text": [
            "Go to this URL in a browser: https://accounts.google.com/o/oauth2/auth?client_id=947318989803-6bn6qk8qdgf4n4g3pfee6491hc0brc4i.apps.googleusercontent.com&redirect_uri=urn%3Aietf%3Awg%3Aoauth%3A2.0%3Aoob&scope=email%20https%3A%2F%2Fwww.googleapis.com%2Fauth%2Fdocs.test%20https%3A%2F%2Fwww.googleapis.com%2Fauth%2Fdrive%20https%3A%2F%2Fwww.googleapis.com%2Fauth%2Fdrive.photos.readonly%20https%3A%2F%2Fwww.googleapis.com%2Fauth%2Fpeopleapi.readonly&response_type=code\n",
            "\n",
            "Enter your authorization code:\n",
            "··········\n",
            "Mounted at /content/gdrive\n"
          ],
          "name": "stdout"
        }
      ]
    },
    {
      "cell_type": "code",
      "metadata": {
        "id": "jSFw8rxAifJK",
        "colab_type": "code",
        "colab": {}
      },
      "source": [
        "import torch\n",
        "import pandas as pd\n",
        "import cv2\n",
        "import os\n",
        "import numpy as np\n",
        "import torchvision.transforms as transforms\n",
        "import torchvision.models as models\n",
        "import torch.nn as nn\n",
        "import torch.optim as optim\n",
        "import torch.nn.functional as F\n",
        "from sklearn.metrics import confusion_matrix\n",
        "from sklearn.metrics import f1_score"
      ],
      "execution_count": 0,
      "outputs": []
    },
    {
      "cell_type": "code",
      "metadata": {
        "id": "hTMoUihaihp-",
        "colab_type": "code",
        "outputId": "ce7e7776-a3b3-4177-f941-95ae2ef990a0",
        "colab": {
          "base_uri": "https://localhost:8080/",
          "height": 33
        }
      },
      "source": [
        "torch.manual_seed(1618)"
      ],
      "execution_count": 0,
      "outputs": [
        {
          "output_type": "execute_result",
          "data": {
            "text/plain": [
              "<torch._C.Generator at 0x7f1f99e83bd0>"
            ]
          },
          "metadata": {
            "tags": []
          },
          "execution_count": 3
        }
      ]
    },
    {
      "cell_type": "markdown",
      "metadata": {
        "id": "kA-E1Q3Qy4qB",
        "colab_type": "text"
      },
      "source": [
        "## Intialize parameters"
      ]
    },
    {
      "cell_type": "code",
      "metadata": {
        "id": "SxDkW0t1wjR4",
        "colab_type": "code",
        "colab": {}
      },
      "source": [
        "root_dir = '/content/gdrive/My Drive/Summer_19/eece5626/'"
      ],
      "execution_count": 0,
      "outputs": []
    },
    {
      "cell_type": "code",
      "metadata": {
        "id": "BUp41K28ZX7L",
        "colab_type": "code",
        "colab": {}
      },
      "source": [
        "device = torch.device('cuda:0' if torch.cuda.is_available() else 'cpu')"
      ],
      "execution_count": 0,
      "outputs": []
    },
    {
      "cell_type": "markdown",
      "metadata": {
        "id": "tnQFrmfUy9Y5",
        "colab_type": "text"
      },
      "source": [
        "## CLAHE"
      ]
    },
    {
      "cell_type": "code",
      "metadata": {
        "id": "CD4IWptLi0jE",
        "colab_type": "code",
        "colab": {}
      },
      "source": [
        "class CLAHE(object):\n",
        "    def __init__(self, clip_limit):\n",
        "        assert isinstance(clip_limit, float) or isinstance(clip_limit, int)\n",
        "        self.clip_limit = clip_limit\n",
        "    \n",
        "    def __call__(self, sample):\n",
        "        image, diagnosis = sample['image'], sample['diagnosis']\n",
        "        \n",
        "        clahe = cv2.createCLAHE(clipLimit=self.clip_limit)\n",
        "        img = clahe.apply(image)\n",
        "        return {\"image\": img, \"diagnosis\": diagnosis}"
      ],
      "execution_count": 0,
      "outputs": []
    },
    {
      "cell_type": "markdown",
      "metadata": {
        "id": "8NmgPGMwzBRz",
        "colab_type": "text"
      },
      "source": [
        "## Data Loader"
      ]
    },
    {
      "cell_type": "code",
      "metadata": {
        "id": "YgcXdhL0i6IC",
        "colab_type": "code",
        "colab": {}
      },
      "source": [
        "class APTOSDataset(torch.utils.data.Dataset):\n",
        "    def __init__(self, csv_file, root_dir, transform=None):\n",
        "        self.aptos_frame = pd.read_csv(csv_file)\n",
        "        self.root_dir = root_dir\n",
        "        self.transform = transform\n",
        "        \n",
        "    def __len__(self):\n",
        "        return len(self.aptos_frame)\n",
        "    \n",
        "    def __getitem__(self, idx):\n",
        "        img_name = os.path.join(self.root_dir,\n",
        "                                self.aptos_frame.iloc[idx, 0])\n",
        "        image = cv2.imread(img_name + \".png\", 0)\n",
        "        \n",
        "        image = cv2.resize(image, (224, 224))\n",
        "        \n",
        "        diagnosis = self.aptos_frame.iloc[idx, 1]\n",
        "        diagnosis = np.array([diagnosis])\n",
        "        \n",
        "        sample = {'image': image, 'diagnosis': diagnosis, 'id': img_name}\n",
        "        \n",
        "        clahe = CLAHE(clip_limit=3)\n",
        "        sample = clahe(sample)\n",
        "        \n",
        "        if self.transform:\n",
        "            sample[\"image\"] = self.transform(sample[\"image\"])\n",
        "            \n",
        "        return sample"
      ],
      "execution_count": 0,
      "outputs": []
    },
    {
      "cell_type": "markdown",
      "metadata": {
        "id": "fFs9QdlPzISQ",
        "colab_type": "text"
      },
      "source": [
        "## AlexNet Model"
      ]
    },
    {
      "cell_type": "code",
      "metadata": {
        "id": "5z-PVXFmlnBY",
        "colab_type": "code",
        "colab": {}
      },
      "source": [
        "class MyAlexNet(object):\n",
        "  def __init__(self, lr, wd):\n",
        "    # model\n",
        "    self.model = models.alexnet(pretrained=True)\n",
        "    for param in self.model.parameters():\n",
        "      param.requires_grad = False\n",
        "      self.model.features._modules['0'] = nn.Conv2d(1, 64, kernel_size=(11, 11), stride=(4, 4), padding=(2, 2))\n",
        "    self.model.classifier._modules['6'] = nn.Linear(4096, 2)\n",
        "    self.model.to(device)\n",
        "    \n",
        "    # hyper params\n",
        "    self.lr = lr\n",
        "    self.wd = wd\n",
        "    \n",
        "    # optimizer\n",
        "    self.optimizer = optim.Adam(self.model.parameters(), lr=lr,weight_decay=wd, amsgrad=True)\n",
        "    self.criterion = nn.CrossEntropyLoss()  \n",
        "\n",
        "    # model stats\n",
        "    self.incorrect_classifications = []\n",
        "    \n",
        "  def train(self, data, n_epochs=1):\n",
        "    self.model.train()\n",
        "    for i in range(n_epochs):\n",
        "      for j, sample_batched in enumerate(data, 1):\n",
        "        # inputs and labels\n",
        "        inputs = sample_batched['image'].to(device)\n",
        "        labels = sample_batched['diagnosis'].squeeze(1).to(device)\n",
        "        \n",
        "        # optimizer\n",
        "        self.optimizer.zero_grad()\n",
        "        \n",
        "        # forward + backward + optimize\n",
        "        outputs = self.model(inputs)\n",
        "        loss = self.criterion(F.log_softmax(outputs, dim=1), labels)\n",
        "        loss.backward()\n",
        "        self.optimizer.step()\n",
        "      \n",
        "      \n",
        "      print(\"Epoch \", (i+1), \"/\", n_epochs)\n",
        "        \n",
        "  def predict(self, data):\n",
        "    self.model.eval()\n",
        "    predictions = []\n",
        "    labels = []\n",
        "    img_names = []\n",
        "    for i, sample_batched in enumerate(data, 1):\n",
        "      inp = sample_batched[\"image\"].to(device)\n",
        "      lab = sample_batched[\"diagnosis\"]\n",
        "      img_name = sampled_batched[\"id\"]\n",
        "      op = self.model(inp)\n",
        "      pred = op.argmax(dim=1)\n",
        "      predictions.extend(pred)\n",
        "      labels.extend(lab)\n",
        "      img_names.extend(img_name)\n",
        "      \n",
        "      \n",
        "    results = {}\n",
        "    results[\"true_y\"] = [el.item() for el in labels]\n",
        "    results[\"predicted_y\"] = [el.item() for el in predictions]\n",
        "    results[\"image_names\"] = [el.item() for el in img_names]\n",
        "    return results\n",
        "  \n",
        "  def export(self, filename=\"myalexnet.pth\"):\n",
        "    torch.save(self.model, filename)"
      ],
      "execution_count": 0,
      "outputs": []
    },
    {
      "cell_type": "markdown",
      "metadata": {
        "id": "fc-WYJNqzNMN",
        "colab_type": "text"
      },
      "source": [
        "## Training the model"
      ]
    },
    {
      "cell_type": "code",
      "metadata": {
        "id": "HM5GhGrOxDou",
        "colab_type": "code",
        "colab": {}
      },
      "source": [
        "train_path = root_dir + \"training_01.csv\""
      ],
      "execution_count": 0,
      "outputs": []
    },
    {
      "cell_type": "code",
      "metadata": {
        "id": "BMHAqWwaxSTE",
        "colab_type": "code",
        "colab": {}
      },
      "source": [
        "images_path = root_dir + \"train_preprocessed/\""
      ],
      "execution_count": 0,
      "outputs": []
    },
    {
      "cell_type": "code",
      "metadata": {
        "id": "zMJDYU3vi6-G",
        "colab_type": "code",
        "colab": {}
      },
      "source": [
        "aptos_train = APTOSDataset(csv_file=train_path,\n",
        "                             root_dir=images_path,\n",
        "                             transform=transforms.Compose([transforms.ToTensor(), transforms.Normalize(\n",
        "                                                              mean=[0.456],\n",
        "                                                              std= [0.225])]))"
      ],
      "execution_count": 0,
      "outputs": []
    },
    {
      "cell_type": "code",
      "metadata": {
        "id": "r-TBR48FjB5y",
        "colab_type": "code",
        "colab": {}
      },
      "source": [
        "trainLoader = torch.utils.data.DataLoader(aptos_train, batch_size=64)"
      ],
      "execution_count": 0,
      "outputs": []
    },
    {
      "cell_type": "code",
      "metadata": {
        "id": "dGeE-aY4omYv",
        "colab_type": "code",
        "outputId": "4c797af8-a202-4c29-a9d6-e5ba09bb12a5",
        "colab": {
          "base_uri": "https://localhost:8080/",
          "height": 50
        }
      },
      "source": [
        "lr= 0.0003\n",
        "w = 6.7752e-06\n",
        "my_alexnet = MyAlexNet(lr, w)"
      ],
      "execution_count": 0,
      "outputs": [
        {
          "output_type": "stream",
          "text": [
            "Downloading: \"https://download.pytorch.org/models/alexnet-owt-4df8aa71.pth\" to /root/.cache/torch/checkpoints/alexnet-owt-4df8aa71.pth\n",
            "100%|██████████| 244418560/244418560 [00:02<00:00, 105328854.81it/s]\n"
          ],
          "name": "stderr"
        }
      ]
    },
    {
      "cell_type": "code",
      "metadata": {
        "id": "7EMPa9hFo0Fv",
        "colab_type": "code",
        "outputId": "d21fcdf4-0b8e-4a3e-eca2-bd0c04f97889",
        "colab": {
          "base_uri": "https://localhost:8080/",
          "height": 100
        }
      },
      "source": [
        "my_alexnet.train(trainLoader, n_epochs=5)"
      ],
      "execution_count": 0,
      "outputs": [
        {
          "output_type": "stream",
          "text": [
            "Epoch  1 / 5\n",
            "Epoch  2 / 5\n",
            "Epoch  3 / 5\n",
            "Epoch  4 / 5\n",
            "Epoch  5 / 5\n"
          ],
          "name": "stdout"
        }
      ]
    },
    {
      "cell_type": "code",
      "metadata": {
        "id": "PsHwtFEGo5yT",
        "colab_type": "code",
        "colab": {}
      },
      "source": [
        "results_train = my_alexnet.predict(trainLoader)"
      ],
      "execution_count": 0,
      "outputs": []
    },
    {
      "cell_type": "markdown",
      "metadata": {
        "id": "eRaB7Ley0M-J",
        "colab_type": "text"
      },
      "source": [
        "### Training results"
      ]
    },
    {
      "cell_type": "markdown",
      "metadata": {
        "id": "siXhCMX80izB",
        "colab_type": "text"
      },
      "source": [
        "**Confusion Matrix**"
      ]
    },
    {
      "cell_type": "code",
      "metadata": {
        "id": "-pX7imZU0DbZ",
        "colab_type": "code",
        "colab": {}
      },
      "source": [
        "cm_train = confusion_matrix(results_train[\"true_y\"], results_train[\"predicted_y\"])"
      ],
      "execution_count": 0,
      "outputs": []
    },
    {
      "cell_type": "code",
      "metadata": {
        "id": "9MvgvfO80J5b",
        "colab_type": "code",
        "colab": {}
      },
      "source": [
        "cm_train"
      ],
      "execution_count": 0,
      "outputs": []
    },
    {
      "cell_type": "markdown",
      "metadata": {
        "id": "R-NJIRIL0nMT",
        "colab_type": "text"
      },
      "source": [
        "**F1-score**"
      ]
    },
    {
      "cell_type": "code",
      "metadata": {
        "id": "rFeJUDrF0ok2",
        "colab_type": "code",
        "colab": {}
      },
      "source": [
        "f1_train = f1_score(results_train[\"true_y\"], results_train[\"predicted_y\"])"
      ],
      "execution_count": 0,
      "outputs": []
    },
    {
      "cell_type": "code",
      "metadata": {
        "id": "f1X7Ypq50wFS",
        "colab_type": "code",
        "colab": {}
      },
      "source": [
        "f1_train"
      ],
      "execution_count": 0,
      "outputs": []
    },
    {
      "cell_type": "markdown",
      "metadata": {
        "id": "HcA8xK9j0yhk",
        "colab_type": "text"
      },
      "source": [
        "## Validating the model"
      ]
    },
    {
      "cell_type": "code",
      "metadata": {
        "id": "gzi8zW8m009y",
        "colab_type": "code",
        "colab": {}
      },
      "source": [
        "validation_path = root_dir + \"validation_01.csv\""
      ],
      "execution_count": 0,
      "outputs": []
    },
    {
      "cell_type": "code",
      "metadata": {
        "id": "18hz6WiH093q",
        "colab_type": "code",
        "colab": {}
      },
      "source": [
        "images_path = root_dir + \"train_preprocessed/\""
      ],
      "execution_count": 0,
      "outputs": []
    },
    {
      "cell_type": "code",
      "metadata": {
        "id": "1QX1PuS51HRX",
        "colab_type": "code",
        "colab": {}
      },
      "source": [
        "aptos_validation = APTOSDataset(csv_file=validation_path,\n",
        "                             root_dir=images_path,\n",
        "                             transform=transforms.Compose([transforms.ToTensor(), transforms.Normalize(\n",
        "                                                              mean=[0.456],\n",
        "                                                              std= [0.225])]))"
      ],
      "execution_count": 0,
      "outputs": []
    },
    {
      "cell_type": "code",
      "metadata": {
        "id": "5WLhbf7I0_9N",
        "colab_type": "code",
        "colab": {}
      },
      "source": [
        "validationLoader = torch.utils.data.DataLoader(aptos_validation)"
      ],
      "execution_count": 0,
      "outputs": []
    },
    {
      "cell_type": "code",
      "metadata": {
        "id": "uRF548T71Nvy",
        "colab_type": "code",
        "colab": {}
      },
      "source": [
        "results_validation = my_alexnet.predict(validationLoader)"
      ],
      "execution_count": 0,
      "outputs": []
    },
    {
      "cell_type": "markdown",
      "metadata": {
        "colab_type": "text",
        "id": "q1kizAfP1Y_m"
      },
      "source": [
        "### Validation results"
      ]
    },
    {
      "cell_type": "markdown",
      "metadata": {
        "colab_type": "text",
        "id": "r2_gGTON1Y_n"
      },
      "source": [
        "**Confusion Matrix**"
      ]
    },
    {
      "cell_type": "code",
      "metadata": {
        "colab_type": "code",
        "id": "7THG7RIO1Y_o",
        "colab": {}
      },
      "source": [
        "cm_validation = confusion_matrix(results_validation[\"true_y\"], results_validation[\"predicted_y\"])"
      ],
      "execution_count": 0,
      "outputs": []
    },
    {
      "cell_type": "code",
      "metadata": {
        "colab_type": "code",
        "id": "OdcAe7cq1Y_r",
        "colab": {}
      },
      "source": [
        "cm_validation"
      ],
      "execution_count": 0,
      "outputs": []
    },
    {
      "cell_type": "markdown",
      "metadata": {
        "colab_type": "text",
        "id": "1bMcVAlT1Y_t"
      },
      "source": [
        "**F1-score**"
      ]
    },
    {
      "cell_type": "code",
      "metadata": {
        "colab_type": "code",
        "id": "jhz36kqs1Y_u",
        "colab": {}
      },
      "source": [
        "f1_validation = f1_score(results_validation[\"true_y\"], results_validation[\"predicted_y\"])"
      ],
      "execution_count": 0,
      "outputs": []
    },
    {
      "cell_type": "code",
      "metadata": {
        "colab_type": "code",
        "id": "8Io75QKv1Y_v",
        "colab": {}
      },
      "source": [
        "f1_validation"
      ],
      "execution_count": 0,
      "outputs": []
    },
    {
      "cell_type": "code",
      "metadata": {
        "colab_type": "code",
        "id": "AjblnIh3CY9t",
        "colab": {}
      },
      "source": [
        "# torch.save(my_alexnet.model, root_dir + \"alexnet_model.pth\")"
      ],
      "execution_count": 0,
      "outputs": []
    }
  ]
}